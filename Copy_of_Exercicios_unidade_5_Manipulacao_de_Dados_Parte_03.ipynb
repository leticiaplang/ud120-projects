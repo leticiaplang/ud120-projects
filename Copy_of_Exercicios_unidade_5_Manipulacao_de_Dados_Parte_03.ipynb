{
  "cells": [
    {
      "cell_type": "markdown",
      "metadata": {
        "id": "view-in-github",
        "colab_type": "text"
      },
      "source": [
        "<a href=\"https://colab.research.google.com/github/leticiaplang/ud120-projects/blob/master/Copy_of_Exercicios_unidade_5_Manipulacao_de_Dados_Parte_03.ipynb\" target=\"_parent\"><img src=\"https://colab.research.google.com/assets/colab-badge.svg\" alt=\"Open In Colab\"/></a>"
      ]
    },
    {
      "cell_type": "markdown",
      "metadata": {
        "id": "hAcVCqunNHPq"
      },
      "source": [
        "![](https://i.imgur.com/JsMvGnP.png)"
      ]
    },
    {
      "cell_type": "markdown",
      "metadata": {
        "id": "xlIVUULwujKa"
      },
      "source": [
        "\n",
        "## Exercícios de manipulação de dados - Parte 3"
      ]
    },
    {
      "cell_type": "markdown",
      "metadata": {
        "id": "RoztT_BzujKc"
      },
      "source": [
        "Neste Jupyter notebook você irá resolver uma exercícios utilizando a biblioteca Pandas.\\\n",
        "Todos os datasets utilizados nos exercícios estão salvos na pasta *datasets*.\\\n",
        "Todo o seu código deve ser executado neste Jupyter Notebook. Por fim, se desejar, revise as respostas com o seu mentor."
      ]
    },
    {
      "cell_type": "markdown",
      "metadata": {
        "id": "VYyMlLtIujKe"
      },
      "source": [
        "#### Tarefa 1. Importe o dataset e salve os dados em um dataframe\n",
        "\n",
        "Os dados estão salvos no arquivo ***datasets/users_dataset.txt***.\\\n",
        "Salve os dados em uma variável de nome *users*."
      ]
    },
    {
      "cell_type": "markdown",
      "metadata": {
        "id": "GpGg63VvujKh"
      },
      "source": [
        "#### Tarefa 2. Descubra qual a idade média por ocupação.\n",
        "\n",
        "*Dica: use a função groupby do Pandas na coluna occupation*"
      ]
    },
    {
      "cell_type": "code",
      "execution_count": 2,
      "metadata": {
        "id": "xCzIIT60ujKi",
        "colab": {
          "base_uri": "https://localhost:8080/"
        },
        "outputId": "624505d2-484e-41a4-d984-3a07e800ef2b"
      },
      "outputs": [
        {
          "output_type": "stream",
          "name": "stdout",
          "text": [
            "hello\n"
          ]
        }
      ],
      "source": [
        "# Seu código\n",
        "print('hello')"
      ]
    },
    {
      "cell_type": "markdown",
      "metadata": {
        "id": "y1R0vw2XujKn"
      },
      "source": [
        "#### Tarefa 3. Para cada ocupação descubra a idade mínima e máxima."
      ]
    },
    {
      "cell_type": "code",
      "execution_count": 1,
      "metadata": {
        "id": "GhhaqSCtujKp",
        "colab": {
          "base_uri": "https://localhost:8080/"
        },
        "outputId": "c8592d9d-cb88-4372-bcca-48b76908bd6d"
      },
      "outputs": [
        {
          "output_type": "execute_result",
          "data": {
            "text/plain": [
              "6"
            ]
          },
          "metadata": {},
          "execution_count": 1
        }
      ],
      "source": [
        "# Seu código\n",
        "2 + 4"
      ]
    },
    {
      "cell_type": "markdown",
      "metadata": {
        "id": "DT-Lcsz2ujKz"
      },
      "source": [
        "#### Tarefa 4. Para cada combinação de ocupação e sexo, calcule a idade média.\n",
        "\n",
        "Exemplo:\n",
        "\n",
        "```\n",
        "occupation     gender\n",
        "administrator  F         40.638889\n",
        "               M         37.162791\n",
        "artist         F         30.307692\n",
        "               M         32.333333\n",
        "```"
      ]
    },
    {
      "cell_type": "code",
      "execution_count": null,
      "metadata": {
        "id": "aMIV75fTujKz"
      },
      "outputs": [],
      "source": [
        "# Seu código"
      ]
    },
    {
      "cell_type": "markdown",
      "metadata": {
        "id": "B2TxLDyoujK3"
      },
      "source": [
        "#### Tarefa 5. Para cada ocupação calcule a porcentagem de homens e mulheres.\n",
        "\n",
        "Exemplo:\n",
        "\n",
        "```\n",
        "occupation     gender\n",
        "administrator  F          45.569620\n",
        "               M          54.430380\n",
        "artist         F          46.428571\n",
        "               M          53.571429\n",
        "doctor         M         100.000000\n",
        "educator       F          27.368421\n",
        "               M          72.631579\n",
        "```"
      ]
    },
    {
      "cell_type": "code",
      "execution_count": null,
      "metadata": {
        "id": "XnBH1LMuujK4"
      },
      "outputs": [],
      "source": [
        "# Seu código"
      ]
    },
    {
      "cell_type": "markdown",
      "metadata": {
        "id": "Wkw71CayujK-"
      },
      "source": [
        "**Parabéns! Você chegou ao fim!**"
      ]
    }
  ],
  "metadata": {
    "colab": {
      "collapsed_sections": [],
      "name": "Copy of Exercicios_unidade_5_Manipulacao_de_Dados_Parte_03.ipynb",
      "provenance": [],
      "include_colab_link": true
    },
    "kernelspec": {
      "display_name": "Python 3",
      "language": "python",
      "name": "python3"
    },
    "language_info": {
      "codemirror_mode": {
        "name": "ipython",
        "version": 3
      },
      "file_extension": ".py",
      "mimetype": "text/x-python",
      "name": "python",
      "nbconvert_exporter": "python",
      "pygments_lexer": "ipython3",
      "version": "3.7.9"
    }
  },
  "nbformat": 4,
  "nbformat_minor": 0
}